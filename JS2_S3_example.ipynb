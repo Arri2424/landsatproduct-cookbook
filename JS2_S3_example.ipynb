{
 "cells": [
  {
   "cell_type": "markdown",
   "id": "dca900b4-b5ef-479d-847c-2c43bcf8e497",
   "metadata": {},
   "source": [
    "# Read in data from the landsat8 bucket"
   ]
  },
  {
   "cell_type": "markdown",
   "id": "bd5d50d2-2af2-4f50-9935-bda6ddebe7b2",
   "metadata": {},
   "source": [
    "---"
   ]
  },
  {
   "cell_type": "markdown",
   "id": "4c7d47c8-1be7-4654-85dc-d88cf8979333",
   "metadata": {},
   "source": [
    "## Imports"
   ]
  },
  {
   "cell_type": "code",
   "execution_count": null,
   "id": "f7604cb4-59ec-4068-adeb-b79aadb50db7",
   "metadata": {},
   "outputs": [],
   "source": [
    "import xarray as xr\n",
    "import s3fs\n",
    "import glob"
   ]
  },
  {
   "cell_type": "markdown",
   "id": "69df2c27-18d0-47d5-86da-e231e39ef789",
   "metadata": {},
   "source": [
    "## Loading our data into xarray\n",
    "First, let's open a single file.\n",
    "\n",
    "Our data is stored in the cloud on Jetstream2. We'll load in one of the NetCDF files, recast it from an s3 `fsspec` object into something that `xarray` can open, and then open and examine the dataset."
   ]
  },
  {
   "cell_type": "code",
   "execution_count": null,
   "id": "ed825e8d-407d-4b72-93fc-85ef1de1b815",
   "metadata": {},
   "outputs": [],
   "source": [
    "jetstream_url = 'https://js2.jetstream-cloud.org:8001/'\n",
    "\n",
    "s3 = s3fs.S3FileSystem(anon=True, client_kwargs=dict(endpoint_url=jetstream_url))\n",
    "\n",
    "s3path = 's3://pythia/landsat8/iQuam/202302-STAR-L2i_GHRSST-SST-iQuam-V2.10-v01.0-fv02.0.nc'\n",
    "\n",
    "# Open all files from folder\n",
    "s3file = s3.open(s3path)\n",
    "\n",
    "# Open with xarray\n",
    "ds = xr.open_dataset(s3file)\n"
   ]
  },
  {
   "cell_type": "code",
   "execution_count": null,
   "id": "31a8cc52-b063-49a9-ab4a-967097f5a9b6",
   "metadata": {},
   "outputs": [],
   "source": [
    "ds"
   ]
  },
  {
   "cell_type": "markdown",
   "id": "25e01c2d-8c4f-4541-a418-6b640335d7e6",
   "metadata": {},
   "source": [
    "Next, try opening multiple files."
   ]
  },
  {
   "cell_type": "code",
   "execution_count": null,
   "id": "9471b27c-254e-4251-95c3-05aadfe5ce80",
   "metadata": {},
   "outputs": [],
   "source": [
    "#Generate a list of matching files in the object store folder\n",
    "s3path = 's3://pythia/landsat8/iQuam/20221*-STAR-L2i_GHRSST-SST-iQuam-V2.10-v01.0-fv02.0.nc'\n",
    "remote_files = s3.glob(s3path)"
   ]
  },
  {
   "cell_type": "code",
   "execution_count": null,
   "id": "c6264d1a-2bff-405d-b3cd-715bcf9baed8",
   "metadata": {},
   "outputs": [],
   "source": [
    "remote_files"
   ]
  },
  {
   "cell_type": "markdown",
   "id": "1c35e046-ce80-4823-a296-4243ccd97b80",
   "metadata": {},
   "source": [
    "The next cell is necessary after using the `glob` method on the Jetstream2 object store."
   ]
  },
  {
   "cell_type": "code",
   "execution_count": null,
   "id": "95745f7c-b6f4-4a63-bac3-d8d77420d54f",
   "metadata": {},
   "outputs": [],
   "source": [
    "s3.invalidate_cache()"
   ]
  },
  {
   "cell_type": "markdown",
   "id": "996d4bb1-a51a-4247-b0d5-45d601651974",
   "metadata": {},
   "source": [
    "Open all matching files and add them to a list that we'll pass into Xarray's `open_mfdataset` function."
   ]
  },
  {
   "cell_type": "code",
   "execution_count": null,
   "id": "d2921d34-2a71-4444-9e29-8171b563caa2",
   "metadata": {},
   "outputs": [],
   "source": [
    "fileset = [s3.open(file) for file in remote_files]"
   ]
  },
  {
   "cell_type": "markdown",
   "id": "0669de1c-d6bc-44f7-9f02-dba83d76d4bd",
   "metadata": {},
   "source": [
    "Open with xarray"
   ]
  },
  {
   "cell_type": "markdown",
   "id": "3a157fc7-36e8-4478-98ca-0e3bba6d43cd",
   "metadata": {},
   "source": [
    "<div class=\"alert alert-warning\">\n",
    "The next cell will fail because Xarray could not find any dimension coordinates to use to order the datasets for concatenation. Perhaps modifying the individual dataset objects such that the <code>time</code>, <code>lat</code>, and <code>lon</code> coordinate variables are also named dimensions will correct this.\n",
    "</div>"
   ]
  },
  {
   "cell_type": "code",
   "execution_count": null,
   "id": "f5fe5935-5e30-4990-bb33-9afa8689c249",
   "metadata": {},
   "outputs": [],
   "source": [
    "ds = xr.open_mfdataset(fileset)\n",
    "ds"
   ]
  }
 ],
 "metadata": {
  "kernelspec": {
   "display_name": "Local Turing Environment (Testing Only!)",
   "language": "python",
   "name": "local"
  },
  "language_info": {
   "codemirror_mode": {
    "name": "ipython",
    "version": 3
   },
   "file_extension": ".py",
   "mimetype": "text/x-python",
   "name": "python",
   "nbconvert_exporter": "python",
   "pygments_lexer": "ipython3",
   "version": "3.13.5"
  }
 },
 "nbformat": 4,
 "nbformat_minor": 5
}
